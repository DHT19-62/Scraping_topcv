{
 "cells": [
  {
   "cell_type": "code",
   "execution_count": 20,
   "id": "5c31dee9-6822-4dee-a21f-2b40af135cc0",
   "metadata": {},
   "outputs": [],
   "source": [
    "from bs4 import BeautifulSoup as BS\n",
    "import requests\n",
    "import pandas as pd"
   ]
  },
  {
   "cell_type": "markdown",
   "id": "c0ba2302-53ba-4c36-acde-bebe1c7eb29f",
   "metadata": {},
   "source": [
    "## 1. Thu Thập dữ liệu ở một trang"
   ]
  },
  {
   "cell_type": "code",
   "execution_count": 21,
   "id": "8782b7d0-1d81-4352-92f6-4ec270b691ae",
   "metadata": {},
   "outputs": [],
   "source": [
    "page_link = 'https://www.topcv.vn/tim-viec-lam-intern-tai-ho-chi-minh-kl2?salary=0&exp=0&company_field=1&sort=top_related&page=1'"
   ]
  },
  {
   "cell_type": "code",
   "execution_count": 22,
   "id": "0724c392-2803-459d-a95a-580335accb0c",
   "metadata": {},
   "outputs": [],
   "source": [
    "page_response = requests.get(page_link)"
   ]
  },
  {
   "cell_type": "code",
   "execution_count": 23,
   "id": "d9caca23-902d-4b5e-aa78-805e535adf99",
   "metadata": {},
   "outputs": [],
   "source": [
    "page_content = BS(markup=page_response.content, features='html.parser')"
   ]
  },
  {
   "cell_type": "code",
   "execution_count": 24,
   "id": "b6005df7-261f-42f4-9a9b-4b11b0eb2bd5",
   "metadata": {},
   "outputs": [],
   "source": [
    "job_box = page_content.find_all('div', class_='job-item')"
   ]
  },
  {
   "cell_type": "code",
   "execution_count": 25,
   "id": "e4def2c9-5c2e-4be9-b141-a6e1d0036a37",
   "metadata": {},
   "outputs": [],
   "source": [
    "# Tạo danh danh sách công việc\n",
    "job_lst = []\n",
    "for item in job_box:\n",
    "    job_title = item.find('span', class_='bold transform-job-title').get_text()\n",
    "    company = item.find('p', class_='company underline-box-job').get_text()\n",
    "    address = item.find('label', class_='address').get_text()\n",
    "    salary = item.find('label', class_='salary').get_text()\n",
    "    job_lst.append([job_title, company, address, salary])"
   ]
  },
  {
   "cell_type": "code",
   "execution_count": 26,
   "id": "46a960f3-2f14-4d36-afc4-907102956535",
   "metadata": {},
   "outputs": [],
   "source": [
    "keys = ['Cong viec', 'Cong ty', 'Dia Chi', 'Luong']"
   ]
  },
  {
   "cell_type": "code",
   "execution_count": 27,
   "id": "108bda72-6e12-49fa-861b-a949809e2b30",
   "metadata": {},
   "outputs": [],
   "source": [
    "job_pd = pd.DataFrame(data=job_lst, columns=keys)"
   ]
  },
  {
   "cell_type": "code",
   "execution_count": 28,
   "id": "3f54c4b0-0120-434f-a586-3b8841c27821",
   "metadata": {},
   "outputs": [],
   "source": [
    "job_pd['Cong ty'] = job_pd['Cong ty'].map(lambda x: x.replace('\\n',''))"
   ]
  },
  {
   "cell_type": "code",
   "execution_count": 29,
   "id": "ed33a4b5-25cd-48e4-9bba-150028b58c10",
   "metadata": {},
   "outputs": [
    {
     "data": {
      "text/html": [
       "<div>\n",
       "<style scoped>\n",
       "    .dataframe tbody tr th:only-of-type {\n",
       "        vertical-align: middle;\n",
       "    }\n",
       "\n",
       "    .dataframe tbody tr th {\n",
       "        vertical-align: top;\n",
       "    }\n",
       "\n",
       "    .dataframe thead th {\n",
       "        text-align: right;\n",
       "    }\n",
       "</style>\n",
       "<table border=\"1\" class=\"dataframe\">\n",
       "  <thead>\n",
       "    <tr style=\"text-align: right;\">\n",
       "      <th></th>\n",
       "      <th>Cong viec</th>\n",
       "      <th>Cong ty</th>\n",
       "      <th>Dia Chi</th>\n",
       "      <th>Luong</th>\n",
       "    </tr>\n",
       "  </thead>\n",
       "  <tbody>\n",
       "    <tr>\n",
       "      <th>0</th>\n",
       "      <td>Thực Tập Sinh SEO</td>\n",
       "      <td>CÔNG TY TNHH LENART</td>\n",
       "      <td>Hồ Chí Minh</td>\n",
       "      <td>Thoả thuận</td>\n",
       "    </tr>\n",
       "    <tr>\n",
       "      <th>1</th>\n",
       "      <td>Thực Tập Sinh .Net Developer (C#, Asp.Net)</td>\n",
       "      <td>CÔNG TY TNHH W2SOLUTION VIỆT NAM</td>\n",
       "      <td>Hồ Chí Minh</td>\n",
       "      <td>Thoả thuận</td>\n",
       "    </tr>\n",
       "    <tr>\n",
       "      <th>2</th>\n",
       "      <td>Graphic Designer Internship</td>\n",
       "      <td>Công Ty Cổ Phần Công Nghệ OLLI</td>\n",
       "      <td>Hồ Chí Minh</td>\n",
       "      <td>Thoả thuận</td>\n",
       "    </tr>\n",
       "    <tr>\n",
       "      <th>3</th>\n",
       "      <td>Thực Tập Sinh Business Analyst (Mảng Marketing)</td>\n",
       "      <td>Top On Seek (TOS) Ltd.</td>\n",
       "      <td>Hồ Chí Minh</td>\n",
       "      <td>Trên 3 triệu</td>\n",
       "    </tr>\n",
       "    <tr>\n",
       "      <th>4</th>\n",
       "      <td>Thực Tập Sinh Hỗ Trợ Kinh Doanh - Triển Khai (...</td>\n",
       "      <td>Công ty CP Giải pháp Thanh toán Việt Nam (VNPAY)</td>\n",
       "      <td>Hồ Chí Minh</td>\n",
       "      <td>Trên 6 triệu</td>\n",
       "    </tr>\n",
       "    <tr>\n",
       "      <th>5</th>\n",
       "      <td>Thực Tập Sinh Kinh Doanh HCM</td>\n",
       "      <td>Công ty cổ phần CTNET</td>\n",
       "      <td>Hồ Chí Minh</td>\n",
       "      <td>Thoả thuận</td>\n",
       "    </tr>\n",
       "    <tr>\n",
       "      <th>6</th>\n",
       "      <td>Thực Tập Sinh 3D Artist</td>\n",
       "      <td>Công ty Cổ phần Tập đoàn Công nghệ Unicloud (U...</td>\n",
       "      <td>Hồ Chí Minh</td>\n",
       "      <td>3-4 triệu</td>\n",
       "    </tr>\n",
       "    <tr>\n",
       "      <th>7</th>\n",
       "      <td>Thực Tập Sinh 3D Artist</td>\n",
       "      <td>Tập đoàn Sunshine - Sunshine Group</td>\n",
       "      <td>Hồ Chí Minh</td>\n",
       "      <td>2-4 triệu</td>\n",
       "    </tr>\n",
       "    <tr>\n",
       "      <th>8</th>\n",
       "      <td>Thực Tập Sinh Content Marketing</td>\n",
       "      <td>Công ty TNHH Marketing Sehilo</td>\n",
       "      <td>Hồ Chí Minh</td>\n",
       "      <td>1-2 triệu</td>\n",
       "    </tr>\n",
       "    <tr>\n",
       "      <th>9</th>\n",
       "      <td>Thực Tập Sinh Truyền Thông</td>\n",
       "      <td>Công ty TNHH Hệ thống Thông Tin FPT</td>\n",
       "      <td>Hồ Chí Minh</td>\n",
       "      <td>Thoả thuận</td>\n",
       "    </tr>\n",
       "  </tbody>\n",
       "</table>\n",
       "</div>"
      ],
      "text/plain": [
       "                                           Cong viec  \\\n",
       "0                                  Thực Tập Sinh SEO   \n",
       "1         Thực Tập Sinh .Net Developer (C#, Asp.Net)   \n",
       "2                        Graphic Designer Internship   \n",
       "3    Thực Tập Sinh Business Analyst (Mảng Marketing)   \n",
       "4  Thực Tập Sinh Hỗ Trợ Kinh Doanh - Triển Khai (...   \n",
       "5                       Thực Tập Sinh Kinh Doanh HCM   \n",
       "6                            Thực Tập Sinh 3D Artist   \n",
       "7                            Thực Tập Sinh 3D Artist   \n",
       "8                    Thực Tập Sinh Content Marketing   \n",
       "9                         Thực Tập Sinh Truyền Thông   \n",
       "\n",
       "                                             Cong ty      Dia Chi  \\\n",
       "0                                CÔNG TY TNHH LENART  Hồ Chí Minh   \n",
       "1                   CÔNG TY TNHH W2SOLUTION VIỆT NAM  Hồ Chí Minh   \n",
       "2                     Công Ty Cổ Phần Công Nghệ OLLI  Hồ Chí Minh   \n",
       "3                             Top On Seek (TOS) Ltd.  Hồ Chí Minh   \n",
       "4   Công ty CP Giải pháp Thanh toán Việt Nam (VNPAY)  Hồ Chí Minh   \n",
       "5                              Công ty cổ phần CTNET  Hồ Chí Minh   \n",
       "6  Công ty Cổ phần Tập đoàn Công nghệ Unicloud (U...  Hồ Chí Minh   \n",
       "7                 Tập đoàn Sunshine - Sunshine Group  Hồ Chí Minh   \n",
       "8                      Công ty TNHH Marketing Sehilo  Hồ Chí Minh   \n",
       "9                Công ty TNHH Hệ thống Thông Tin FPT  Hồ Chí Minh   \n",
       "\n",
       "          Luong  \n",
       "0    Thoả thuận  \n",
       "1    Thoả thuận  \n",
       "2    Thoả thuận  \n",
       "3  Trên 3 triệu  \n",
       "4  Trên 6 triệu  \n",
       "5    Thoả thuận  \n",
       "6     3-4 triệu  \n",
       "7     2-4 triệu  \n",
       "8     1-2 triệu  \n",
       "9    Thoả thuận  "
      ]
     },
     "execution_count": 29,
     "metadata": {},
     "output_type": "execute_result"
    }
   ],
   "source": [
    "job_pd.head(10)"
   ]
  },
  {
   "cell_type": "markdown",
   "id": "4ca3b24b-1b90-41c6-8451-c449c79cf417",
   "metadata": {},
   "source": [
    "## 2. Thu thập thông tin ở 20 trang web"
   ]
  },
  {
   "cell_type": "code",
   "execution_count": 30,
   "id": "b1a7dab5-dfff-4c8d-8c17-cffbb1626dfd",
   "metadata": {},
   "outputs": [],
   "source": [
    "job_lst = []\n",
    "for page in range(1,21):\n",
    "    page_link = 'https://www.topcv.vn/tim-viec-lam-intern-tai-ho-chi-minh-kl2?salary=0&exp=0&company_field=1&sort=top_related&page='+str(page)\n",
    "    page_response = requests.get(page_link)\n",
    "    page_content = BS(markup=page_response.content, features='html.parser')\n",
    "    job_box = page_content.find_all('div', class_='job-item')\n",
    "    for item in job_box:\n",
    "        job_title = item.find('span', class_='bold transform-job-title').get_text()\n",
    "        company = item.find('p', class_='company underline-box-job').get_text()\n",
    "        address = item.find('label', class_='address').get_text()\n",
    "        salary = item.find('label', class_='salary').get_text()\n",
    "        job_lst.append([job_title, company, address, salary])\n",
    "keys = ['Cong viec', 'Cong ty', 'Dia Chi', 'Luong']\n",
    "job_pd = pd.DataFrame(data=job_lst, columns=keys)\n",
    "job_pd['Cong ty'] = job_pd['Cong ty'].map(lambda x: x.replace('\\n',''))"
   ]
  },
  {
   "cell_type": "code",
   "execution_count": 31,
   "id": "fc06a62a-2dfb-46c8-a9e4-71c2aca3ef68",
   "metadata": {},
   "outputs": [
    {
     "data": {
      "text/plain": [
       "(410, 4)"
      ]
     },
     "execution_count": 31,
     "metadata": {},
     "output_type": "execute_result"
    }
   ],
   "source": [
    "job_pd.shape"
   ]
  },
  {
   "cell_type": "code",
   "execution_count": 32,
   "id": "9e409f88-f97f-4f27-b88e-4f2f60efb499",
   "metadata": {},
   "outputs": [
    {
     "data": {
      "text/html": [
       "<div>\n",
       "<style scoped>\n",
       "    .dataframe tbody tr th:only-of-type {\n",
       "        vertical-align: middle;\n",
       "    }\n",
       "\n",
       "    .dataframe tbody tr th {\n",
       "        vertical-align: top;\n",
       "    }\n",
       "\n",
       "    .dataframe thead th {\n",
       "        text-align: right;\n",
       "    }\n",
       "</style>\n",
       "<table border=\"1\" class=\"dataframe\">\n",
       "  <thead>\n",
       "    <tr style=\"text-align: right;\">\n",
       "      <th></th>\n",
       "      <th>Cong viec</th>\n",
       "      <th>Cong ty</th>\n",
       "      <th>Dia Chi</th>\n",
       "      <th>Luong</th>\n",
       "    </tr>\n",
       "  </thead>\n",
       "  <tbody>\n",
       "    <tr>\n",
       "      <th>0</th>\n",
       "      <td>Thực Tập Sinh SEO</td>\n",
       "      <td>CÔNG TY TNHH LENART</td>\n",
       "      <td>Hồ Chí Minh</td>\n",
       "      <td>Thoả thuận</td>\n",
       "    </tr>\n",
       "    <tr>\n",
       "      <th>1</th>\n",
       "      <td>Thực Tập Sinh .Net Developer (C#, Asp.Net)</td>\n",
       "      <td>CÔNG TY TNHH W2SOLUTION VIỆT NAM</td>\n",
       "      <td>Hồ Chí Minh</td>\n",
       "      <td>Thoả thuận</td>\n",
       "    </tr>\n",
       "    <tr>\n",
       "      <th>2</th>\n",
       "      <td>Graphic Designer Internship</td>\n",
       "      <td>Công Ty Cổ Phần Công Nghệ OLLI</td>\n",
       "      <td>Hồ Chí Minh</td>\n",
       "      <td>Thoả thuận</td>\n",
       "    </tr>\n",
       "    <tr>\n",
       "      <th>3</th>\n",
       "      <td>Thực Tập Sinh Business Analyst (Mảng Marketing)</td>\n",
       "      <td>Top On Seek (TOS) Ltd.</td>\n",
       "      <td>Hồ Chí Minh</td>\n",
       "      <td>Trên 3 triệu</td>\n",
       "    </tr>\n",
       "    <tr>\n",
       "      <th>4</th>\n",
       "      <td>Thực Tập Sinh Hỗ Trợ Kinh Doanh - Triển Khai (...</td>\n",
       "      <td>Công ty CP Giải pháp Thanh toán Việt Nam (VNPAY)</td>\n",
       "      <td>Hồ Chí Minh</td>\n",
       "      <td>Trên 6 triệu</td>\n",
       "    </tr>\n",
       "  </tbody>\n",
       "</table>\n",
       "</div>"
      ],
      "text/plain": [
       "                                           Cong viec  \\\n",
       "0                                  Thực Tập Sinh SEO   \n",
       "1         Thực Tập Sinh .Net Developer (C#, Asp.Net)   \n",
       "2                        Graphic Designer Internship   \n",
       "3    Thực Tập Sinh Business Analyst (Mảng Marketing)   \n",
       "4  Thực Tập Sinh Hỗ Trợ Kinh Doanh - Triển Khai (...   \n",
       "\n",
       "                                            Cong ty      Dia Chi         Luong  \n",
       "0                               CÔNG TY TNHH LENART  Hồ Chí Minh    Thoả thuận  \n",
       "1                  CÔNG TY TNHH W2SOLUTION VIỆT NAM  Hồ Chí Minh    Thoả thuận  \n",
       "2                    Công Ty Cổ Phần Công Nghệ OLLI  Hồ Chí Minh    Thoả thuận  \n",
       "3                            Top On Seek (TOS) Ltd.  Hồ Chí Minh  Trên 3 triệu  \n",
       "4  Công ty CP Giải pháp Thanh toán Việt Nam (VNPAY)  Hồ Chí Minh  Trên 6 triệu  "
      ]
     },
     "execution_count": 32,
     "metadata": {},
     "output_type": "execute_result"
    }
   ],
   "source": [
    "job_pd.head()"
   ]
  },
  {
   "cell_type": "code",
   "execution_count": 33,
   "id": "419af92e-522a-4b29-beca-989fc5571573",
   "metadata": {},
   "outputs": [
    {
     "data": {
      "text/html": [
       "<div>\n",
       "<style scoped>\n",
       "    .dataframe tbody tr th:only-of-type {\n",
       "        vertical-align: middle;\n",
       "    }\n",
       "\n",
       "    .dataframe tbody tr th {\n",
       "        vertical-align: top;\n",
       "    }\n",
       "\n",
       "    .dataframe thead th {\n",
       "        text-align: right;\n",
       "    }\n",
       "</style>\n",
       "<table border=\"1\" class=\"dataframe\">\n",
       "  <thead>\n",
       "    <tr style=\"text-align: right;\">\n",
       "      <th></th>\n",
       "      <th>Cong viec</th>\n",
       "      <th>Cong ty</th>\n",
       "      <th>Dia Chi</th>\n",
       "      <th>Luong</th>\n",
       "    </tr>\n",
       "  </thead>\n",
       "  <tbody>\n",
       "    <tr>\n",
       "      <th>405</th>\n",
       "      <td>Internship React Native Developer</td>\n",
       "      <td>CÔNG TY TNHH GIẢI PHÁP PHẦN MỀM SUNSHINE</td>\n",
       "      <td>Hồ Chí Minh</td>\n",
       "      <td>Trên 2 triệu</td>\n",
       "    </tr>\n",
       "    <tr>\n",
       "      <th>406</th>\n",
       "      <td>Thực Tập Sinh Python</td>\n",
       "      <td>Công ty TNHH 1 thành viên công nghệ và truyền ...</td>\n",
       "      <td>Hà Nội, Hồ Chí Minh</td>\n",
       "      <td>Thoả thuận</td>\n",
       "    </tr>\n",
       "    <tr>\n",
       "      <th>407</th>\n",
       "      <td>Thực Tập Sinh Front-End</td>\n",
       "      <td>Công ty Cổ phần Công nghệ HiTime</td>\n",
       "      <td>Hồ Chí Minh</td>\n",
       "      <td>Thoả thuận</td>\n",
       "    </tr>\n",
       "    <tr>\n",
       "      <th>408</th>\n",
       "      <td>Server Engineer Internship</td>\n",
       "      <td>CÔNG TY TNHH SNA VIỆT NAM</td>\n",
       "      <td>Hồ Chí Minh</td>\n",
       "      <td>5-15 triệu</td>\n",
       "    </tr>\n",
       "    <tr>\n",
       "      <th>409</th>\n",
       "      <td>Thực Tập Sinh Bảo Hành Bảo Trì Thiết Bị An Nin...</td>\n",
       "      <td>Công Ty TNHH Thương Mại Và Dịch Vụ Công Nghệ Sala</td>\n",
       "      <td>Bến Tre, Hồ Chí Minh</td>\n",
       "      <td>2-5 triệu</td>\n",
       "    </tr>\n",
       "  </tbody>\n",
       "</table>\n",
       "</div>"
      ],
      "text/plain": [
       "                                             Cong viec  \\\n",
       "405                  Internship React Native Developer   \n",
       "406                               Thực Tập Sinh Python   \n",
       "407                            Thực Tập Sinh Front-End   \n",
       "408                         Server Engineer Internship   \n",
       "409  Thực Tập Sinh Bảo Hành Bảo Trì Thiết Bị An Nin...   \n",
       "\n",
       "                                               Cong ty               Dia Chi  \\\n",
       "405           CÔNG TY TNHH GIẢI PHÁP PHẦN MỀM SUNSHINE           Hồ Chí Minh   \n",
       "406  Công ty TNHH 1 thành viên công nghệ và truyền ...   Hà Nội, Hồ Chí Minh   \n",
       "407                   Công ty Cổ phần Công nghệ HiTime           Hồ Chí Minh   \n",
       "408                          CÔNG TY TNHH SNA VIỆT NAM           Hồ Chí Minh   \n",
       "409  Công Ty TNHH Thương Mại Và Dịch Vụ Công Nghệ Sala  Bến Tre, Hồ Chí Minh   \n",
       "\n",
       "            Luong  \n",
       "405  Trên 2 triệu  \n",
       "406    Thoả thuận  \n",
       "407    Thoả thuận  \n",
       "408    5-15 triệu  \n",
       "409     2-5 triệu  "
      ]
     },
     "execution_count": 33,
     "metadata": {},
     "output_type": "execute_result"
    }
   ],
   "source": [
    "job_pd.tail()"
   ]
  },
  {
   "cell_type": "code",
   "execution_count": 34,
   "id": "3a87c30a-3cec-4c59-8c6c-2c9b3f4fbdaf",
   "metadata": {},
   "outputs": [
    {
     "data": {
      "text/plain": [
       "Thoả thuận      158\n",
       "Tới 5 triệu      53\n",
       "Trên 3 triệu     52\n",
       "Trên 2 triệu     28\n",
       "Tới 3 triệu      21\n",
       "2-5 triệu        16\n",
       "1.2-2 triệu      15\n",
       "4-6 triệu        15\n",
       "5-15 triệu       15\n",
       "Trên 1 triệu      4\n",
       "2-3 triệu         3\n",
       "3-4 triệu         3\n",
       "2-6 triệu         3\n",
       "Trên 5 triệu      2\n",
       "2-10 triệu        2\n",
       "1.5-3 triệu       2\n",
       "1-2 triệu         2\n",
       "3-7 triệu         2\n",
       "2.5-5 triệu       2\n",
       "Trên 7 triệu      2\n",
       "3.5-4 triệu       1\n",
       "1-10 triệu        1\n",
       "3-8 triệu         1\n",
       "2-4 triệu         1\n",
       "Trên 4 triệu      1\n",
       "6-10 triệu        1\n",
       "1-3 triệu         1\n",
       "3-5 triệu         1\n",
       "Trên 6 triệu      1\n",
       "Tới 2 triệu       1\n",
       "Name: Luong, dtype: int64"
      ]
     },
     "execution_count": 34,
     "metadata": {},
     "output_type": "execute_result"
    }
   ],
   "source": [
    "job_pd['Luong'].value_counts()\n",
    "# Các mức lương của thực tập sinh IT ở TP HCM"
   ]
  },
  {
   "cell_type": "code",
   "execution_count": null,
   "id": "22547e82-4a15-4134-97c6-e8f026eb893d",
   "metadata": {},
   "outputs": [],
   "source": []
  }
 ],
 "metadata": {
  "kernelspec": {
   "display_name": "Python 3 (ipykernel)",
   "language": "python",
   "name": "python3"
  },
  "language_info": {
   "codemirror_mode": {
    "name": "ipython",
    "version": 3
   },
   "file_extension": ".py",
   "mimetype": "text/x-python",
   "name": "python",
   "nbconvert_exporter": "python",
   "pygments_lexer": "ipython3",
   "version": "3.9.13"
  }
 },
 "nbformat": 4,
 "nbformat_minor": 5
}
